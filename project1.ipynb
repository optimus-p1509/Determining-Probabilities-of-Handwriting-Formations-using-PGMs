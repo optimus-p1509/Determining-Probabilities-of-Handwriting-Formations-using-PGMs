{
 "cells": [
  {
   "cell_type": "markdown",
   "metadata": {},
   "source": [
    "## PreProcessing Data Files"
   ]
  },
  {
   "cell_type": "code",
   "execution_count": 1,
   "metadata": {},
   "outputs": [
    {
     "name": "stdout",
     "output_type": "stream",
     "text": [
      "Table2.csv Processed\n",
      "Table3.csv Processed\n",
      "Table4.csv Processed\n",
      "Table5.csv Processed\n",
      "Table6.csv Processed\n",
      "Table7.csv Processed\n",
      "Table8.csv Processed\n"
     ]
    }
   ],
   "source": [
    "import csv\n",
    "\n",
    "filenames = [\"Table2.csv\",\"Table3.csv\",\"Table4.csv\",\"Table5.csv\",\"Table6.csv\",\"Table7.csv\",\"Table8.csv\"]\n",
    "for currFile in filenames:\n",
    "    print(currFile + \" Processed\")\n",
    "    with open(currFile,'r',newline=\"\\n\", encoding=\"utf-8\") as csvfile:\n",
    "        reader = csv.reader(csvfile,delimiter=',')\n",
    "        x = list(reader)\n",
    "        rows,cols = len(x),len(x[0])\n",
    "#         print(rows,cols)\n",
    "        for i in range(1,rows):\n",
    "            for j in range(1,cols):\n",
    "                k = str(x[i][j])\n",
    "                if '%' not in k and '(' in k:\n",
    "                        k = k.split('(')[0]\n",
    "                        k = float(k)/100\n",
    "#                         print(i,j,k)\n",
    "                elif '%' in k:\n",
    "                    k = str(x[i][j]).split('%')[0]\n",
    "                    k = k.strip(\"%\")\n",
    "                    k = float(k)/100\n",
    "                x[i][j] = str(k)\n",
    "                \n",
    "    with open(currFile,'w',newline=\"\\n\", encoding=\"utf-8\") as cf:\n",
    "        writer = csv.writer(cf, delimiter=\",\")\n",
    "        writer.writerows(x)"
   ]
  },
  {
   "cell_type": "markdown",
   "metadata": {},
   "source": [
    "## Imports"
   ]
  },
  {
   "cell_type": "code",
   "execution_count": 2,
   "metadata": {},
   "outputs": [],
   "source": [
    "import pandas as pd\n",
    "import numpy as np\n",
    "\n",
    "Table2 = pd.read_csv(\"Table2.csv\", delimiter = ',')\n",
    "Table3 = pd.read_csv(\"Table3.csv\", delimiter = ',')\n",
    "Table4 = pd.read_csv(\"Table4.csv\", delimiter = ',')\n",
    "Table5 = pd.read_csv(\"Table5.csv\", delimiter = ',')\n",
    "Table6 = pd.read_csv(\"Table6.csv\", delimiter = ',')\n",
    "Table7 = pd.read_csv(\"Table7.csv\", delimiter = ',')\n",
    "Table8 = pd.read_csv(\"Table8.csv\", delimiter = ',')\n",
    "\n",
    "x1 = Table2.iloc[:4,4]\n",
    "\n",
    "x2 = Table2.iloc[:5,2]\n",
    "\n",
    "x3 = Table2.iloc[:3,3]\n",
    "\n",
    "x4 = Table2.iloc[:4,4]\n",
    "\n",
    "x5 = Table2.iloc[:4,5]\n",
    "\n",
    "x6 = Table2.iloc[:5,6]\n",
    "\n",
    "x2givenx1 = Table3.iloc[1:6,1:]\n",
    "x2Gx1 = x2givenx1.values\n",
    "\n",
    "x4givenx1 = Table3.iloc[6:10,1:]\n",
    "x4Gx1 = x4givenx1.values\n",
    "\n",
    "x6givenx1 = Table3.iloc[10:,1:]\n",
    "x6Gx1 = x6givenx1.values\n",
    "\n",
    "x3givenx2 = Table4.iloc[1:4,1:]\n",
    "x3Gx2 = x3givenx2.values\n",
    "\n",
    "x5givenx2 = Table4.iloc[4:,1:]\n",
    "x5Gx2 = x5givenx2.values\n",
    "\n",
    "x2givenx3 = Table5.iloc[1:6,1:]\n",
    "x2Gx3 = x2givenx3.values\n",
    "\n",
    "x5givenx3 = Table5.iloc[6:10,1:]\n",
    "x5Gx3 = x5givenx3.values\n",
    "\n",
    "x6givenx3 = Table5.iloc[10:,1:]\n",
    "x6Gx3 = x6givenx3.values\n",
    "x6Gx3[3][-1] = 0.313\n",
    "\n",
    "x1givenx4 = Table6.iloc[1:5,1:]\n",
    "x1Gx4 = x1givenx4.values\n",
    "\n",
    "x2givenx4 = Table6.iloc[5:10,1:]\n",
    "x2Gx4 = x2givenx4.values\n",
    "\n",
    "x6givenx4 = Table6.iloc[10:,1:]\n",
    "x6Gx4 = x6givenx4.values\n",
    "\n",
    "x2givenx5 = Table7.iloc[1:6,1:]\n",
    "x2Gx5 = x2givenx5.values\n",
    "x2Gx5[-1][0] = 0.187\n",
    "x2Gx5[0][3] = 0.268\n",
    "x2Gx5[1][3] = 0.329\n",
    "x2Gx5[2][3] = 0\n",
    "x2Gx5[3][3] = 0.146\n",
    "x2Gx5[4][3] = 0.256\n",
    "\n",
    "x3givenx5 = Table7.iloc[6:,1:]\n",
    "x3Gx5 = x3givenx5.values\n",
    "x3Gx5[-1][2] = 0.048\n",
    "\n",
    "x1givenx6 = Table8.iloc[1:5,1:]\n",
    "x1Gx6 = x1givenx6.values\n",
    "x1Gx6[2][1] = 0.094\n",
    "x1Gx6[3][1] = 0.187\n",
    "x1Gx6[2][3] = 0.032\n",
    "x1Gx6[3][3] = 0.095\n",
    "\n",
    "\n",
    "x2givenx6 = Table8.iloc[5:10,1:]\n",
    "x2Gx6 = x2givenx6.values\n",
    "\n",
    "x3givenx6 = Table8.iloc[10:13,1:]\n",
    "x3Gx6 = x3givenx6.values\n",
    "x3Gx6[0][0] = 0\n",
    "x3Gx6[1][0] = 1.0\n",
    "x3Gx6[2][0] = 0\n",
    "x3Gx6[0][1] = 0.218\n",
    "x3Gx6[1][1] = 0.656\n",
    "x3Gx6[2][1] = 0.125\n",
    "x3Gx6[0][2] = 0.107\n",
    "x3Gx6[1][2] = 0.714\n",
    "x3Gx6[2][2] = 0.179\n",
    "x3Gx6[0][3] = 0.206\n",
    "x3Gx6[1][3] = 0.635\n",
    "x3Gx6[2][3] = 0.159\n",
    "\n",
    "x4givenx6 = Table8.iloc[13:,1:]\n",
    "x4Gx6 = x4givenx6.values"
   ]
  },
  {
   "cell_type": "markdown",
   "metadata": {},
   "source": [
    "## Dependency for X1"
   ]
  },
  {
   "cell_type": "code",
   "execution_count": 3,
   "metadata": {},
   "outputs": [
    {
     "name": "stdout",
     "output_type": "stream",
     "text": [
      "For x2 and x1\n",
      "0.15977\n",
      "For x4 and x1\n",
      "0.11943000000000001\n",
      "For x6 and x1\n",
      "0.16015500000000005\n"
     ]
    }
   ],
   "source": [
    "independence = {}\n",
    "\n",
    "print(\"For x2 and x1\")\n",
    "independencex2x1 = 0\n",
    "for i in range(5):\n",
    "    for j in range(4):\n",
    "        a = Table3.iloc[i+1][j+1]\n",
    "        b = Table2.iloc[j][1]\n",
    "        c = Table2.iloc[i][2]\n",
    "#         print(a,b,c)\n",
    "        independencex2x1 += abs(a*b - b*c)\n",
    "print(independencex2x1)\n",
    "independence['x2,x1'] = independencex2x1\n",
    "\n",
    "print(\"For x4 and x1\")\n",
    "independencex4x1 = 0\n",
    "for i in range(4):\n",
    "    for j in range(4):\n",
    "        a = Table3.iloc[i+6][j+1]\n",
    "        b = Table2.iloc[j][1]\n",
    "        c = Table2.iloc[i][4]\n",
    "#         print(a,b,c)\n",
    "        independencex4x1 += abs(a*b - b*c)\n",
    "print(independencex4x1)\n",
    "independence['x4,x1'] = independencex4x1\n",
    "\n",
    "print(\"For x6 and x1\") # j is x1 and i is x6\n",
    "independencex6x1 = 0\n",
    "for i in range(5):\n",
    "    for j in range(4):\n",
    "        a = Table3.iloc[i+10][j+1]\n",
    "        b = Table2.iloc[j][1]\n",
    "        c = Table2.iloc[i][6]\n",
    "#         print(a,b,c)\n",
    "        independencex6x1 += abs(a*b - b*c)\n",
    "print(independencex6x1)\n",
    "independence['x6,x1'] = independencex6x1"
   ]
  },
  {
   "cell_type": "markdown",
   "metadata": {},
   "source": [
    "## Denpendency with X2"
   ]
  },
  {
   "cell_type": "code",
   "execution_count": 4,
   "metadata": {
    "scrolled": true
   },
   "outputs": [
    {
     "name": "stdout",
     "output_type": "stream",
     "text": [
      "For x3 and x2\n",
      "0.21852500000000008\n",
      "For x5 and x2\n",
      "0.13246\n"
     ]
    }
   ],
   "source": [
    "print(\"For x3 and x2\")\n",
    "independencex3x2 = 0\n",
    "for i in range(3):\n",
    "    for j in range(5):\n",
    "        a = Table4.iloc[i+1][j+1]\n",
    "        b = Table2.iloc[j][2]\n",
    "        c = Table2.iloc[i][3]\n",
    "#         print(a,b,c)\n",
    "        independencex3x2 += abs(a*b - b*c)\n",
    "print(independencex3x2)\n",
    "independence['x3,x2'] = independencex3x2\n",
    "\n",
    "print(\"For x5 and x2\")\n",
    "independencex5x2 = 0\n",
    "for i in range(4):\n",
    "    for j in range(5):\n",
    "        a = Table4.iloc[i+4][j+1]\n",
    "        b = Table2.iloc[j][2]\n",
    "        c = Table2.iloc[i][5]\n",
    "#         print(a,b,c)\n",
    "        independencex5x2 += abs(a*b - b*c)\n",
    "print(independencex5x2)\n",
    "independence['x5,x2'] = independencex5x2"
   ]
  },
  {
   "cell_type": "markdown",
   "metadata": {},
   "source": [
    "## Denpendency with X3"
   ]
  },
  {
   "cell_type": "code",
   "execution_count": 5,
   "metadata": {},
   "outputs": [
    {
     "name": "stdout",
     "output_type": "stream",
     "text": [
      "For x2 and x3\n",
      "0.21875799999999998\n",
      "For x5 and x3\n",
      "0.11552000000000001\n",
      "For x6 and x3\n",
      "0.11324000000000001\n"
     ]
    }
   ],
   "source": [
    "print(\"For x2 and x3\")\n",
    "independencex2x3 = 0\n",
    "for i in range(5):\n",
    "    for j in range(3):\n",
    "        a = Table5.iloc[i+1][j+1]\n",
    "        b = Table2.iloc[j][3]\n",
    "        c = Table2.iloc[i][2]\n",
    "#         print(a,b,c)\n",
    "        independencex2x3 += abs(a*b - b*c)\n",
    "print(independencex2x3)\n",
    "independence['x2,x3'] = independencex2x3\n",
    "\n",
    "print(\"For x5 and x3\")\n",
    "independencex5x3 = 0\n",
    "for i in range(4):\n",
    "    for j in range(3):\n",
    "        a = Table5.iloc[i+6][j+1]\n",
    "        b = Table2.iloc[j][3]\n",
    "        c = Table2.iloc[i][5]\n",
    "#         print(a,b,c)\n",
    "        independencex5x3 += abs(a*b - b*c)\n",
    "print(independencex5x3)\n",
    "independence['x5,x3'] = independencex5x3\n",
    "\n",
    "print(\"For x6 and x3\") # j is x3 and i is x6\n",
    "independencex6x3 = 0\n",
    "for i in range(5):\n",
    "    for j in range(3):\n",
    "        a = Table5.iloc[i+10][j+1]\n",
    "        b = Table2.iloc[j][3]\n",
    "        c = Table2.iloc[i][6]\n",
    "#         print(a,b,c)\n",
    "        independencex6x3 += abs(a*b - b*c)\n",
    "print(independencex6x3)\n",
    "independence['x6,x3'] = independencex6x3"
   ]
  },
  {
   "cell_type": "markdown",
   "metadata": {},
   "source": [
    "## Denpendency with X4"
   ]
  },
  {
   "cell_type": "code",
   "execution_count": 6,
   "metadata": {
    "scrolled": true
   },
   "outputs": [
    {
     "name": "stdout",
     "output_type": "stream",
     "text": [
      "For x1 and x4\n",
      "0.11957000000000007\n",
      "For x2 and x4\n",
      "0.11569999999999997\n",
      "For x6 and x4\n",
      "0.14347\n"
     ]
    }
   ],
   "source": [
    "print(\"For x1 and x4\")\n",
    "independencex1x4 = 0\n",
    "for i in range(4):\n",
    "    for j in range(4):\n",
    "        a = Table6.iloc[i+1][j+1]\n",
    "        b = Table2.iloc[j][4]\n",
    "        c = Table2.iloc[i][1]\n",
    "#         print(a,b,c)\n",
    "        independencex1x4 += abs(a*b - b*c)\n",
    "print(independencex1x4)\n",
    "independence['x1,x4'] = independencex1x4\n",
    "\n",
    "print(\"For x2 and x4\")\n",
    "independencex2x4 = 0\n",
    "for i in range(5):\n",
    "    for j in range(4):\n",
    "        a = Table6.iloc[i+5][j+1]\n",
    "        b = Table2.iloc[j][4]\n",
    "        c = Table2.iloc[i][2]\n",
    "#         print(a,b,c)\n",
    "        independencex2x4 += abs(a*b - b*c)\n",
    "print(independencex2x4)\n",
    "independence['x2,x4'] = independencex2x4\n",
    "\n",
    "print(\"For x6 and x4\") # j is x4 and i is x6\n",
    "independencex6x4 = 0\n",
    "for i in range(5):\n",
    "    for j in range(4):\n",
    "        a = Table6.iloc[i+10][j+1]\n",
    "        b = Table2.iloc[j][4]\n",
    "        c = Table2.iloc[i][6]\n",
    "#         print(a,b,c)\n",
    "        independencex6x4 += abs(a*b - b*c)\n",
    "print(independencex6x4)\n",
    "independence['x6,x4'] = independencex6x4"
   ]
  },
  {
   "cell_type": "markdown",
   "metadata": {},
   "source": [
    "## Dependency with X5"
   ]
  },
  {
   "cell_type": "code",
   "execution_count": 7,
   "metadata": {},
   "outputs": [
    {
     "name": "stdout",
     "output_type": "stream",
     "text": [
      "For x2 and x5\n",
      "0.8561449999999998\n",
      "For x3 and x5\n",
      "0.11670000000000007\n"
     ]
    }
   ],
   "source": [
    "print(\"For x2 and x5\")\n",
    "independencex2x5 = 0\n",
    "for i in range(5):\n",
    "    for j in range(4):\n",
    "        a = Table7.iloc[i+1][j+1]\n",
    "        b = Table2.iloc[j][5]\n",
    "        c = Table2.iloc[i][2]\n",
    "#         print(a,b,c)\n",
    "        independencex2x5 += abs(a*b - b*c)\n",
    "print(independencex2x5)\n",
    "independence['x2,x5'] = independencex2x5\n",
    "\n",
    "print(\"For x3 and x5\")\n",
    "independencex3x5 = 0\n",
    "for i in range(3):\n",
    "    for j in range(4):\n",
    "        a = Table7.iloc[i+6][j+1]\n",
    "        b = Table2.iloc[j][5]\n",
    "        c = Table2.iloc[i][3]\n",
    "#         print(a,b,c)\n",
    "        independencex3x5 += abs(a*b - b*c)\n",
    "print(independencex3x5)\n",
    "independence['x3,x5'] = independencex3x5"
   ]
  },
  {
   "cell_type": "markdown",
   "metadata": {},
   "source": [
    "## Dependency with X6"
   ]
  },
  {
   "cell_type": "code",
   "execution_count": 8,
   "metadata": {
    "scrolled": true
   },
   "outputs": [
    {
     "name": "stdout",
     "output_type": "stream",
     "text": [
      "For x1 and x6\n",
      "0.176845\n",
      "For x2 and x6\n",
      "0.175315\n",
      "For x3 and x6\n",
      "0.13903000000000004\n",
      "For x4 and x6\n",
      "0.14306999999999997\n"
     ]
    }
   ],
   "source": [
    "print(\"For x1 and x6\")\n",
    "independencex1x6 = 0\n",
    "for i in range(4):\n",
    "    for j in range(5):\n",
    "        a = Table8.iloc[i+1][j+1]\n",
    "        b = Table2.iloc[j][6]\n",
    "        c = Table2.iloc[i][1]\n",
    "#         print(a,b,c)\n",
    "        independencex1x6 += abs(a*b - b*c)\n",
    "print(independencex1x6)\n",
    "independence['x1,x6'] = independencex1x6\n",
    "\n",
    "print(\"For x2 and x6\")\n",
    "independencex2x6 = 0\n",
    "for i in range(5):\n",
    "    for j in range(5):\n",
    "        a = Table8.iloc[i+5][j+1]\n",
    "        b = Table2.iloc[j][6]\n",
    "        c = Table2.iloc[i][2]\n",
    "#         print(a,b,c)\n",
    "        independencex2x6 += abs(a*b - b*c)\n",
    "print(independencex2x6)\n",
    "independence['x2,x6'] = independencex2x6\n",
    "\n",
    "print(\"For x3 and x6\") # j is x4 and i is x6\n",
    "independencex3x6 = 0\n",
    "for i in range(3):\n",
    "    for j in range(5):\n",
    "        a = Table8.iloc[i+10][j+1]\n",
    "        b = Table2.iloc[j][6]\n",
    "        c = Table2.iloc[i][3]\n",
    "#         print(a,b,c)\n",
    "        independencex3x6 += abs(a*b - b*c)\n",
    "print(independencex3x6)\n",
    "independence['x3,x6'] = independencex3x6\n",
    "\n",
    "print(\"For x4 and x6\") # j is x4 and i is x6\n",
    "independencex4x6 = 0\n",
    "for i in range(4):\n",
    "    for j in range(5):\n",
    "        a = Table8.iloc[i+13][j+1]\n",
    "        b = Table2.iloc[j][6]\n",
    "        c = Table2.iloc[i][4]\n",
    "#         print(a,b,c)\n",
    "        independencex4x6 += abs(a*b - b*c)\n",
    "print(independencex4x6)\n",
    "independence['x4,x6'] = independencex4x6"
   ]
  },
  {
   "cell_type": "markdown",
   "metadata": {},
   "source": [
    "## Task 1 : Determining Depencencies"
   ]
  },
  {
   "cell_type": "code",
   "execution_count": 9,
   "metadata": {},
   "outputs": [
    {
     "name": "stdout",
     "output_type": "stream",
     "text": [
      "Considering threshold as 0.14\n",
      "Dependent Nodes are :\n",
      "x2 and x1 are dependent\n",
      "x6 and x1 are dependent\n",
      "x3 and x2 are dependent\n",
      "x2 and x3 are dependent\n",
      "x6 and x4 are dependent\n",
      "x2 and x5 are dependent\n",
      "x1 and x6 are dependent\n",
      "x2 and x6 are dependent\n",
      "x4 and x6 are dependent\n",
      "[['x1', 'x2'], ['x1', 'x6'], ['x2', 'x3'], ['x3', 'x2'], ['x4', 'x6'], ['x5', 'x2'], ['x6', 'x1'], ['x6', 'x2'], ['x6', 'x4']]\n"
     ]
    }
   ],
   "source": [
    "import operator\n",
    "\n",
    "# print(independence)\n",
    "threshold = 0.14\n",
    "dependent = []\n",
    "print(\"Considering threshold as \" + str(threshold))\n",
    "print(\"Dependent Nodes are :\")\n",
    "for key,value in independence.items():\n",
    "    if value > threshold:\n",
    "        a,b = key.split(',')\n",
    "        print(a + \" and \" + b + \" are dependent\")\n",
    "        dependent.append([b,a])\n",
    "print(dependent)"
   ]
  },
  {
   "cell_type": "markdown",
   "metadata": {},
   "source": [
    "## Constructing Bayesian Networks"
   ]
  },
  {
   "cell_type": "code",
   "execution_count": 10,
   "metadata": {},
   "outputs": [
    {
     "name": "stdout",
     "output_type": "stream",
     "text": [
      "True\n"
     ]
    },
    {
     "name": "stderr",
     "output_type": "stream",
     "text": [
      "C:\\Users\\Parth\\Anaconda3\\lib\\site-packages\\networkx\\drawing\\nx_pylab.py:126: MatplotlibDeprecationWarning: pyplot.hold is deprecated.\n",
      "    Future behavior will be consistent with the long-time default:\n",
      "    plot commands add elements without first clearing the\n",
      "    Axes and/or Figure.\n",
      "  b = plt.ishold()\n",
      "C:\\Users\\Parth\\Anaconda3\\lib\\site-packages\\networkx\\drawing\\nx_pylab.py:522: MatplotlibDeprecationWarning: The is_string_like function was deprecated in version 2.1.\n",
      "  if not cb.is_string_like(edge_color) \\\n",
      "C:\\Users\\Parth\\Anaconda3\\lib\\site-packages\\networkx\\drawing\\nx_pylab.py:543: MatplotlibDeprecationWarning: The is_string_like function was deprecated in version 2.1.\n",
      "  if cb.is_string_like(edge_color) or len(edge_color) == 1:\n",
      "C:\\Users\\Parth\\Anaconda3\\lib\\site-packages\\networkx\\drawing\\nx_pylab.py:724: MatplotlibDeprecationWarning: The is_string_like function was deprecated in version 2.1.\n",
      "  if not cb.is_string_like(label):\n",
      "C:\\Users\\Parth\\Anaconda3\\lib\\site-packages\\networkx\\drawing\\nx_pylab.py:138: MatplotlibDeprecationWarning: pyplot.hold is deprecated.\n",
      "    Future behavior will be consistent with the long-time default:\n",
      "    plot commands add elements without first clearing the\n",
      "    Axes and/or Figure.\n",
      "  plt.hold(b)\n",
      "C:\\Users\\Parth\\Anaconda3\\lib\\site-packages\\matplotlib\\__init__.py:910: MatplotlibDeprecationWarning: axes.hold is deprecated. Please remove it from your matplotlibrc and/or style files.\n",
      "  mplDeprecation)\n",
      "C:\\Users\\Parth\\Anaconda3\\lib\\site-packages\\matplotlib\\rcsetup.py:156: MatplotlibDeprecationWarning: axes.hold is deprecated, will be removed in 3.0\n",
      "  mplDeprecation)\n"
     ]
    },
    {
     "data": {
      "text/plain": [
       "<Figure size 640x480 with 1 Axes>"
      ]
     },
     "metadata": {},
     "output_type": "display_data"
    },
    {
     "name": "stdout",
     "output_type": "stream",
     "text": [
      "[('x2', 'x3'), ('x2', 'x5'), ('x3', 'x6'), ('x6', 'x1'), ('x6', 'x4')]\n"
     ]
    }
   ],
   "source": [
    "from pgmpy.models.BayesianModel import BayesianModel\n",
    "from pgmpy.estimators import K2Score\n",
    "from pgmpy.factors.discrete import TabularCPD\n",
    "from pgmpy.sampling import BayesianModelSampling\n",
    "from pgmpy.sampling import GibbsSampling\n",
    "import networkx as nx\n",
    "import pylab as plt\n",
    "\n",
    "k2Scores = {}\n",
    "model1 = BayesianModel([('x2', 'x3'), ('x2', 'x5'), ('x3', 'x6'), ('x6', 'x1'), ('x6', 'x4')])\n",
    "\n",
    "cpd_x2 = TabularCPD(variable=\"x2\",variable_card=5,values=[x2])\n",
    "cpd_x2_x3 = TabularCPD(variable=\"x3\",variable_card=3,values=x3Gx2, evidence=[\"x2\"],evidence_card=[5])\n",
    "cpd_x2_x5 = TabularCPD(variable=\"x5\",variable_card=4,values=x5Gx2, evidence=[\"x2\"],evidence_card=[5])\n",
    "cpd_x3_x6 = TabularCPD(variable=\"x6\",variable_card=5,values=x6Gx3, evidence=[\"x3\"],evidence_card=[3])\n",
    "cpd_x6_x1 = TabularCPD(variable=\"x1\",variable_card=4,values=x1Gx6, evidence=[\"x6\"],evidence_card=[5])\n",
    "cpd_x6_x4 = TabularCPD(variable=\"x4\",variable_card=4,values=x4Gx6, evidence=[\"x6\"],evidence_card=[5])\n",
    "\n",
    "model1.add_cpds(cpd_x2,cpd_x2_x3,cpd_x2_x5,cpd_x3_x6,cpd_x6_x1,cpd_x6_x4)\n",
    "print(model1.check_model())\n",
    "\n",
    "nx.draw(model1, with_labels=True)\n",
    "plt.title(\"Model 1\")\n",
    "plt.savefig('model1.png')\n",
    "plt.show()\n",
    "print(model1.edges())\n",
    "\n",
    "# Bayesian Sampling\n",
    "inference1 = BayesianModelSampling(model1)\n",
    "\n",
    "data1 = inference1.forward_sample(size=1000)\n",
    "\n",
    "k2 = K2Score(data1)\n",
    "k2Scores[\"Model 1\"] = [model1, k2.score(model1), data1, \"model1\"]"
   ]
  },
  {
   "cell_type": "code",
   "execution_count": 11,
   "metadata": {},
   "outputs": [
    {
     "name": "stdout",
     "output_type": "stream",
     "text": [
      "True\n"
     ]
    },
    {
     "data": {
      "image/png": "[encoded data removed]",
      "text/plain": [
       "<Figure size 432x288 with 1 Axes>"
      ]
     },
     "metadata": {},
     "output_type": "display_data"
    },
    {
     "name": "stdout",
     "output_type": "stream",
     "text": [
      "[('x3', 'x2'), ('x3', 'x6'), ('x2', 'x5'), ('x6', 'x1'), ('x6', 'x4')]\n"
     ]
    }
   ],
   "source": [
    "model2 = BayesianModel([('x3', 'x2'), ('x3', 'x6'), ('x6', 'x1'), ('x6', 'x4'), ('x2', 'x5')])\n",
    "\n",
    "cpd_x3 = TabularCPD(variable=\"x3\",variable_card=3,values=[x3])\n",
    "cpd_x3_x2 = TabularCPD(variable=\"x2\",variable_card=5,values=x2Gx3, evidence=[\"x3\"],evidence_card=[3])\n",
    "cpd_x3_x6 = TabularCPD(variable=\"x6\",variable_card=5,values=x6Gx3, evidence=[\"x3\"],evidence_card=[3])\n",
    "cpd_x6_x1 = TabularCPD(variable=\"x1\",variable_card=4,values=x1Gx6, evidence=[\"x6\"],evidence_card=[5])\n",
    "cpd_x6_x4 = TabularCPD(variable=\"x4\",variable_card=4,values=x4Gx6, evidence=[\"x6\"],evidence_card=[5])\n",
    "cpd_x2_x5 = TabularCPD(variable=\"x5\",variable_card=4,values=x5Gx2, evidence=[\"x2\"],evidence_card=[5])\n",
    "\n",
    "model2.add_cpds(cpd_x3,cpd_x3_x2,cpd_x2_x5,cpd_x6_x4,cpd_x6_x1,cpd_x3_x6)\n",
    "print(model2.check_model())\n",
    "\n",
    "nx.draw(model2, with_labels=True)\n",
    "plt.title(\"Model 2\")\n",
    "plt.savefig('model2.png')\n",
    "plt.show()\n",
    "print(model2.edges())\n",
    "\n",
    "# Bayesian Sampling\n",
    "inference2 = BayesianModelSampling(model2)\n",
    "\n",
    "data2 = inference2.forward_sample(size=1000)\n",
    "\n",
    "k2 = K2Score(data2)\n",
    "k2Scores[\"Model 2\"] = [k2.score(model2), data2, \"model2\"]"
   ]
  },
  {
   "cell_type": "code",
   "execution_count": 12,
   "metadata": {},
   "outputs": [
    {
     "name": "stdout",
     "output_type": "stream",
     "text": [
      "True\n"
     ]
    },
    {
     "data": {
      "image/png": "[encoded data removed]",
      "text/plain": [
       "<Figure size 432x288 with 1 Axes>"
      ]
     },
     "metadata": {},
     "output_type": "display_data"
    },
    {
     "name": "stdout",
     "output_type": "stream",
     "text": [
      "[('x3', 'x2'), ('x3', 'x6'), ('x3', 'x5'), ('x6', 'x4'), ('x6', 'x1')]\n"
     ]
    }
   ],
   "source": [
    "model3 = BayesianModel([('x3', 'x2'), ('x3', 'x6'), ('x3', 'x5'), ('x6', 'x4'), ('x6', 'x1')])\n",
    "\n",
    "cpd_x3 = TabularCPD(variable=\"x3\",variable_card=3,values=[x3])\n",
    "cpd_x3_x2 = TabularCPD(variable=\"x2\",variable_card=5,values=x2Gx3, evidence=[\"x3\"],evidence_card=[3])\n",
    "cpd_x3_x6 = TabularCPD(variable=\"x6\",variable_card=5,values=x6Gx3, evidence=[\"x3\"],evidence_card=[3])\n",
    "cpd_x3_x5 = TabularCPD(variable=\"x5\",variable_card=4,values=x5Gx3, evidence=[\"x3\"],evidence_card=[3])\n",
    "cpd_x6_x4 = TabularCPD(variable=\"x4\",variable_card=4,values=x4Gx6, evidence=[\"x6\"],evidence_card=[5])\n",
    "cpd_x6_x1 = TabularCPD(variable=\"x1\",variable_card=4,values=x1Gx6, evidence=[\"x6\"],evidence_card=[5])\n",
    "\n",
    "model3.add_cpds(cpd_x3,cpd_x3_x2,cpd_x3_x5,cpd_x6_x4,cpd_x6_x1,cpd_x3_x6)\n",
    "print(model3.check_model())\n",
    "\n",
    "nx.draw(model3, with_labels=True)\n",
    "plt.title(\"Model 3\")\n",
    "plt.savefig('model3.png')\n",
    "plt.show()\n",
    "\n",
    "print(model3.edges())\n",
    "\n",
    "# Bayesian Sampling\n",
    "inference3 = BayesianModelSampling(model3)\n",
    "\n",
    "data3 = inference3.forward_sample(size=1000)\n",
    "\n",
    "k2 = K2Score(data3)\n",
    "k2Scores[\"Model 3\"] = [k2.score(model3), data3, \"model3\"]"
   ]
  },
  {
   "cell_type": "code",
   "execution_count": 13,
   "metadata": {},
   "outputs": [
    {
     "name": "stdout",
     "output_type": "stream",
     "text": [
      "True\n"
     ]
    },
    {
     "data": {
      "image/png": "[encoded data removed]",
      "text/plain": [
       "<Figure size 432x288 with 1 Axes>"
      ]
     },
     "metadata": {},
     "output_type": "display_data"
    },
    {
     "name": "stdout",
     "output_type": "stream",
     "text": [
      "[('x2', 'x3'), ('x2', 'x5'), ('x3', 'x6'), ('x6', 'x4'), ('x4', 'x1')]\n"
     ]
    }
   ],
   "source": [
    "model4 = BayesianModel([('x2', 'x3'), ('x2', 'x5'), ('x3', 'x6'), ('x6', 'x4'), ('x4', 'x1')])\n",
    "\n",
    "cpd_x2 = TabularCPD(variable=\"x2\",variable_card=5,values=[x2])\n",
    "cpd_x2_x3 = TabularCPD(variable=\"x3\",variable_card=3,values=x3Gx2, evidence=[\"x2\"],evidence_card=[5])\n",
    "cpd_x2_x5 = TabularCPD(variable=\"x5\",variable_card=4,values=x5Gx2, evidence=[\"x2\"],evidence_card=[5])\n",
    "cpd_x3_x6 = TabularCPD(variable=\"x6\",variable_card=5,values=x6Gx3, evidence=[\"x3\"],evidence_card=[3])\n",
    "cpd_x4_x1 = TabularCPD(variable=\"x1\",variable_card=4,values=x1Gx4, evidence=[\"x4\"],evidence_card=[4])\n",
    "cpd_x6_x4 = TabularCPD(variable=\"x4\",variable_card=4,values=x4Gx6, evidence=[\"x6\"],evidence_card=[5])\n",
    "\n",
    "model4.add_cpds(cpd_x2,cpd_x2_x3,cpd_x2_x5,cpd_x3_x6,cpd_x4_x1,cpd_x6_x4)\n",
    "print(model4.check_model())\n",
    "\n",
    "nx.draw(model4, with_labels=True)\n",
    "plt.title(\"Model 4\")\n",
    "plt.savefig('model4.png')\n",
    "plt.show()\n",
    "\n",
    "print(model4.edges())\n",
    "\n",
    "# Bayesian Sampling\n",
    "inference4 = BayesianModelSampling(model4)\n",
    "\n",
    "data4 = inference4.forward_sample(size=1000)\n",
    "\n",
    "k2 = K2Score(data4)\n",
    "k2Scores[\"Model 4\"] = [k2.score(model4), data4, \"model4\"]"
   ]
  },
  {
   "cell_type": "code",
   "execution_count": 14,
   "metadata": {},
   "outputs": [
    {
     "name": "stdout",
     "output_type": "stream",
     "text": [
      "True\n"
     ]
    },
    {
     "data": {
      "image/png": "[encoded data removed]",
      "text/plain": [
       "<Figure size 432x288 with 1 Axes>"
      ]
     },
     "metadata": {},
     "output_type": "display_data"
    },
    {
     "name": "stdout",
     "output_type": "stream",
     "text": [
      "[('x6', 'x1'), ('x6', 'x4'), ('x1', 'x2'), ('x2', 'x3'), ('x2', 'x5')]\n"
     ]
    }
   ],
   "source": [
    "model5 = BayesianModel([('x6', 'x1'), ('x6', 'x4'), ('x1', 'x2'), ('x2', 'x3'), ('x2', 'x5')])\n",
    "# print(x6)\n",
    "cpd_x6 = TabularCPD(variable=\"x6\",variable_card=5,values=[x6])\n",
    "cpd_x4_x6 = TabularCPD(variable=\"x4\",variable_card=4,values=x4Gx6, evidence=[\"x6\"],evidence_card=[5])\n",
    "cpd_x1_x6 = TabularCPD(variable=\"x1\",variable_card=4,values=x1Gx6, evidence=[\"x6\"],evidence_card=[5])\n",
    "cpd_x2_x1 = TabularCPD(variable=\"x2\",variable_card=5,values=x2Gx1, evidence=[\"x1\"],evidence_card=[4])\n",
    "cpd_x3_x2 = TabularCPD(variable=\"x3\",variable_card=3,values=x3Gx2, evidence=[\"x2\"],evidence_card=[5])\n",
    "cpd_x5_x2 = TabularCPD(variable=\"x5\",variable_card=4,values=x5Gx2, evidence=[\"x2\"],evidence_card=[5])\n",
    "\n",
    "model5.add_cpds(cpd_x6,cpd_x4_x6,cpd_x1_x6,cpd_x2_x1,cpd_x3_x2,cpd_x5_x2)\n",
    "print(model5.check_model())\n",
    "\n",
    "nx.draw(model5, with_labels=True)\n",
    "plt.title(\"Model 5\")\n",
    "plt.savefig('model5.png')\n",
    "plt.show()\n",
    "\n",
    "print(model5.edges())\n",
    "\n",
    "# Bayesian Sampling\n",
    "inference5 = BayesianModelSampling(model5)\n",
    "\n",
    "data5 = inference5.forward_sample(size=1000)\n",
    "k2 = K2Score(data5)\n",
    "k2Scores[\"Model 5\"] = [k2.score(model5), data5, \"model5\"]"
   ]
  },
  {
   "cell_type": "markdown",
   "metadata": {},
   "source": [
    "## Task 2 : Bayesian Model Inference"
   ]
  },
  {
   "cell_type": "code",
   "execution_count": 15,
   "metadata": {},
   "outputs": [
    {
     "name": "stdout",
     "output_type": "stream",
     "text": [
      "Model 1 K2 Score: -6497.6084119553925\n",
      "Model 2 K2 Score: -6496.849548919414\n",
      "Model 3 K2 Score: -6516.513905847347\n",
      "Model 4 K2 Score: -6514.06556386669\n",
      "Model 5 K2 Score: -6466.560892441103\n",
      "\n",
      "The Best Model is : Model 5\n",
      "The Worst Model is : Model 1\n",
      "\n",
      "For Best Bayesian Model\n",
      "High Probability th characteristics are :\n",
      "Height Relationship of t to h : t shorter than h\n",
      "Shape of Loop of h : curved right side and straight left side\n",
      "Shape of Arch of h : pointed\n",
      "Height of Cross on t staff : upper half of staff\n",
      "Baseline of h : no set pattern\n",
      "Shape of t : closed\n",
      "\n",
      "Low Probability th characteristics are :\n",
      "Height Relationship of t to h : t shorter than h\n",
      "Shape of Loop of h : retraced\n",
      "Shape of Arch of h : pointed\n",
      "Height of Cross on t staff : upper half of staff\n",
      "Baseline of h : slanting upward\n",
      "Shape of t : tented\n"
     ]
    }
   ],
   "source": [
    "import operator\n",
    "print('Model 1 K2 Score: ' + str(k2.score(model1)))\n",
    "print('Model 2 K2 Score: ' + str(k2.score(model2)))\n",
    "print('Model 3 K2 Score: ' + str(k2.score(model3)))\n",
    "print('Model 4 K2 Score: ' + str(k2.score(model4)))\n",
    "print('Model 5 K2 Score: ' + str(k2.score(model5)))\n",
    "best_model = max(k2Scores.items(), key=operator.itemgetter(0))\n",
    "worst_model = min(k2Scores.items(), key=operator.itemgetter(0))\n",
    "\n",
    "print()\n",
    "print(\"The Best Model is : \" + str(best_model[0]))\n",
    "print(\"The Worst Model is : \" + str(worst_model[0]))\n",
    "\n",
    "print()\n",
    "best_model_data = best_model[1][1]\n",
    "\n",
    "countIncluded = best_model_data.groupby(best_model_data.columns.tolist()).size().reset_index().rename(columns={0:'count'})\n",
    "\n",
    "switcherx1 = {\n",
    "    0:  \"t shorter than h\",\n",
    "    1:  \"even with h\",\n",
    "    2:  \"taller than h\",\n",
    "    3:  \"no set pattern\"\n",
    "}\n",
    "switcherx2 = {\n",
    "    0:  \"retraced\",\n",
    "    1:  \"curved right side and straight left side\",\n",
    "    2:  \"curved left side and straight right side\",\n",
    "    3:  \"both sides curved\",\n",
    "    4:  \"no fixed pattern\"\n",
    "}\n",
    "switcherx3 = {\n",
    "    0:  \"rounded arch\",\n",
    "    1:  \"pointed\",\n",
    "    2:  \"no set pattern\",\n",
    "}\n",
    "switcherx4 = {\n",
    "    0:  \"upper half of staff\",\n",
    "    1:  \"lower half of staff\",\n",
    "    2:  \"above staff\",\n",
    "    3:  \"no fixed pattern\"\n",
    "}\n",
    "switcherx5 = {\n",
    "    0:  \"slanting upward\",\n",
    "    1:  \"slanting downward\",\n",
    "    2:  \"baseline even\",\n",
    "    3:  \"no set pattern\"\n",
    "}\n",
    "switcherx6 = {\n",
    "    0:  \"tented\",\n",
    "    1:  \"single stroke\",\n",
    "    2:  \"looped\",\n",
    "    3:  \"closed\",\n",
    "    4:  \"mixture of shapes\"\n",
    "}\n",
    "\n",
    "maxm = countIncluded.iloc[countIncluded['count'].idxmax()]\n",
    "x1D = maxm['x1']\n",
    "x2D = maxm['x2']\n",
    "x3D = maxm['x3']\n",
    "x4D = maxm['x4']\n",
    "x5D = maxm['x5']\n",
    "x6D = maxm['x6']\n",
    "\n",
    "print(\"For Best Bayesian Model\")\n",
    "print(\"High Probability th characteristics are :\")\n",
    "print(\"Height Relationship of t to h : \" + switcherx1.get(x1D))\n",
    "print(\"Shape of Loop of h : \" + switcherx2.get(x2D))\n",
    "print(\"Shape of Arch of h : \" + switcherx3.get(x3D))\n",
    "print(\"Height of Cross on t staff : \" + switcherx4.get(x4D))\n",
    "print(\"Baseline of h : \" + switcherx5.get(x5D))\n",
    "print(\"Shape of t : \" + switcherx6.get(x6D))\n",
    "print()\n",
    "\n",
    "minm = countIncluded.iloc[countIncluded['count'].idxmin()]\n",
    "x1F = minm['x1']\n",
    "x2F = minm['x2']\n",
    "x3F = minm['x3']\n",
    "x4F = minm['x4']\n",
    "x5F = minm['x5']\n",
    "x6F = minm['x6']\n",
    "\n",
    "print(\"Low Probability th characteristics are :\")\n",
    "print(\"Height Relationship of t to h : \" + switcherx1.get(x1F))\n",
    "print(\"Shape of Loop of h : \" + switcherx2.get(x2F))\n",
    "print(\"Shape of Arch of h : \" + switcherx3.get(x3F))\n",
    "print(\"Height of Cross on t staff : \" + switcherx4.get(x4F))\n",
    "print(\"Baseline of h : \" + switcherx5.get(x5F))\n",
    "print(\"Shape of t : \" + switcherx6.get(x6F))"
   ]
  },
  {
   "cell_type": "markdown",
   "metadata": {},
   "source": [
    "## Task 3 : Best Bayesian Model to Markov Model"
   ]
  },
  {
   "cell_type": "code",
   "execution_count": 16,
   "metadata": {},
   "outputs": [
    {
     "name": "stdout",
     "output_type": "stream",
     "text": [
      "The Best Model is : Model 5\n",
      "[('x6', 'x1'), ('x6', 'x4'), ('x1', 'x2'), ('x2', 'x3'), ('x2', 'x5')]\n"
     ]
    },
    {
     "data": {
      "image/png": "[encoded data removed]",
      "text/plain": [
       "<Figure size 432x288 with 1 Axes>"
      ]
     },
     "metadata": {},
     "output_type": "display_data"
    },
    {
     "name": "stderr",
     "output_type": "stream",
     "text": [
      "C:\\Users\\Parth\\Anaconda3\\lib\\site-packages\\pgmpy\\factors\\discrete\\DiscreteFactor.py:586: FutureWarning: Using a non-tuple sequence for multidimensional indexing is deprecated; use `arr[tuple(seq)]` instead of `arr[seq]`. In the future this will be interpreted as an array index, `arr[np.array(seq)]`, which will result either in an error or a different result.\n",
      "  phi.values = phi.values[slice_]\n",
      "C:\\Users\\Parth\\Anaconda3\\lib\\site-packages\\pgmpy\\factors\\discrete\\DiscreteFactor.py:598: FutureWarning: Using a non-tuple sequence for multidimensional indexing is deprecated; use `arr[tuple(seq)]` instead of `arr[seq]`. In the future this will be interpreted as an array index, `arr[np.array(seq)]`, which will result either in an error or a different result.\n",
      "  phi1.values = phi1.values[slice_]\n",
      "C:\\Users\\Parth\\Anaconda3\\lib\\site-packages\\pgmpy\\sampling\\Sampling.py:336: RuntimeWarning: invalid value encountered in true_divide\n",
      "  kernel[tup] = reduced_factor.values / sum(reduced_factor.values)\n"
     ]
    },
    {
     "name": "stdout",
     "output_type": "stream",
     "text": [
      "For Markov Model\n",
      "High Probability th characteristics are :\n",
      "Height Relationship of t to h : t shorter than h\n",
      "Shape of Loop of h : curved right side and straight left side\n",
      "Shape of Arch of h : pointed\n",
      "Height of Cross on t staff : upper half of staff\n",
      "Baseline of h : no set pattern\n",
      "Shape of t : single stroke\n",
      "\n",
      "Low Probability th characteristics are :\n",
      "Height Relationship of t to h : t shorter than h\n",
      "Shape of Loop of h : retraced\n",
      "Shape of Arch of h : rounded arch\n",
      "Height of Cross on t staff : upper half of staff\n",
      "Baseline of h : slanting upward\n",
      "Shape of t : tented\n"
     ]
    }
   ],
   "source": [
    "print(\"The Best Model is : \" + str(best_model[0]))\n",
    "\n",
    "bayesian_model = eval(str(best_model[1][2]))\n",
    "markov_model = bayesian_model.to_markov_model()\n",
    "\n",
    "print(markov_model.edges())\n",
    "nx.draw(markov_model, with_labels=True)\n",
    "plt.title(\"Markov Model for Best Model\")\n",
    "plt.savefig('markov_model.png')\n",
    "plt.show()\n",
    "\n",
    "\n",
    "inference_markov = GibbsSampling(markov_model)\n",
    "data_markov = inference_markov.sample(size=1000, return_type='dataframe')\n",
    "\n",
    "countIncluded = data_markov.groupby(data_markov.columns.tolist()).size().reset_index().rename(columns={0:'count'})\n",
    "maxm = countIncluded.iloc[countIncluded['count'].idxmax()]\n",
    "\n",
    "x1Mmax = maxm['x1']\n",
    "x2Mmax = maxm['x2']\n",
    "x3Mmax = maxm['x3']\n",
    "x4Mmax = maxm['x4']\n",
    "x5Mmax = maxm['x5']\n",
    "x6Mmax = maxm['x6']\n",
    "\n",
    "print(\"For Markov Model\")\n",
    "\n",
    "print(\"High Probability th characteristics are :\")\n",
    "print(\"Height Relationship of t to h : \" + switcherx1.get(x1Mmax))\n",
    "print(\"Shape of Loop of h : \" + switcherx2.get(x2Mmax))\n",
    "print(\"Shape of Arch of h : \" + switcherx3.get(x3Mmax))\n",
    "print(\"Height of Cross on t staff : \" + switcherx4.get(x4Mmax))\n",
    "print(\"Baseline of h : \" + switcherx5.get(x5Mmax))\n",
    "print(\"Shape of t : \" + switcherx6.get(x6Mmax))\n",
    "print()\n",
    "\n",
    "minm = countIncluded.iloc[countIncluded['count'].idxmin()]\n",
    "\n",
    "x1Mmin = minm['x1']\n",
    "x2Mmin = minm['x2']\n",
    "x3Mmin = minm['x3']\n",
    "x4Mmin = minm['x4']\n",
    "x5Mmin = minm['x5']\n",
    "x6Mmin = minm['x6']\n",
    "\n",
    "print(\"Low Probability th characteristics are :\")\n",
    "print(\"Height Relationship of t to h : \" + switcherx1.get(x1Mmin))\n",
    "print(\"Shape of Loop of h : \" + switcherx2.get(x2Mmin))\n",
    "print(\"Shape of Arch of h : \" + switcherx3.get(x3Mmin))\n",
    "print(\"Height of Cross on t staff : \" + switcherx4.get(x4Mmin))\n",
    "print(\"Baseline of h : \" + switcherx5.get(x5Mmin))\n",
    "print(\"Shape of t : \" + switcherx6.get(x6Mmin))"
   ]
  },
  {
   "cell_type": "markdown",
   "metadata": {},
   "source": [
    "## Task 4 : AND Dataset"
   ]
  },
  {
   "cell_type": "code",
   "execution_count": 17,
   "metadata": {},
   "outputs": [
    {
     "name": "stdout",
     "output_type": "stream",
     "text": [
      "Bayesian AND Model is :\n",
      "[('f3', 'f4'), ('f3', 'f9'), ('f3', 'f8'), ('f9', 'f8'), ('f9', 'f7'), ('f9', 'f1'), ('f9', 'f6'), ('f9', 'f2'), ('f9', 'f4'), ('f5', 'f9'), ('f5', 'f3')]\n",
      "Bayesian AND Model K2 Score is: -9462.704892371386\n"
     ]
    },
    {
     "data": {
      "image/png": "[encoded data removed]",
      "text/plain": [
       "<Figure size 432x288 with 1 Axes>"
      ]
     },
     "metadata": {},
     "output_type": "display_data"
    },
    {
     "name": "stdout",
     "output_type": "stream",
     "text": [
      "Markov AND Model is :\n",
      "[('f3', 'f4'), ('f3', 'f9'), ('f3', 'f8'), ('f3', 'f5'), ('f4', 'f9'), ('f9', 'f8'), ('f9', 'f7'), ('f9', 'f1'), ('f9', 'f6'), ('f9', 'f2'), ('f9', 'f5')]\n"
     ]
    },
    {
     "data": {
      "image/png": "[encoded data removed]",
      "text/plain": [
       "<Figure size 432x288 with 1 Axes>"
      ]
     },
     "metadata": {},
     "output_type": "display_data"
    }
   ],
   "source": [
    "from pgmpy.estimators import HillClimbSearch\n",
    "from pgmpy.estimators import BdeuScore, K2Score, BicScore\n",
    "from pgmpy.estimators import MaximumLikelihoodEstimator, BayesianEstimator\n",
    "\n",
    "AND_data = pd. read_csv(\"AND-Features(1).csv\")\n",
    "AND_data = AND_data.drop(['Unnamed: 0', 'img_id'], axis=1)\n",
    "\n",
    "hc = HillClimbSearch(AND_data, scoring_method=K2Score(AND_data))\n",
    "best_model = hc.estimate()\n",
    "\n",
    "k2 = K2Score(AND_data)\n",
    "\n",
    "bayesian_AND_model = BayesianModel(best_model.edges())\n",
    "print(\"Bayesian AND Model is :\")\n",
    "print(bayesian_AND_model.edges())\n",
    "print('Bayesian AND Model K2 Score is: ' + str(k2.score(bayesian_AND_model)))\n",
    "nx.draw(bayesian_AND_model, with_labels = True)\n",
    "plt.title(\"Bayesian AND Model\")\n",
    "plt.savefig('bayesian_AND_model.png')\n",
    "plt.show()\n",
    "\n",
    "print(\"Markov AND Model is :\")\n",
    "markov_AND_model = bayesian_AND_model.to_markov_model()\n",
    "print(markov_AND_model.edges())\n",
    "nx.draw(markov_AND_model, with_labels=True)\n",
    "plt.title(\"Markov AND Model\")\n",
    "plt.savefig('markov_AND_model.png')\n",
    "plt.show()"
   ]
  }
 ],
 "metadata": {
  "kernelspec": {
   "display_name": "Python 3",
   "language": "python",
   "name": "python3"
  },
  "language_info": {
   "codemirror_mode": {
    "name": "ipython",
    "version": 3
   },
   "file_extension": ".py",
   "mimetype": "text/x-python",
   "name": "python",
   "nbconvert_exporter": "python",
   "pygments_lexer": "ipython3",
   "version": "3.7.1"
  }
 },
 "nbformat": 4,
 "nbformat_minor": 2
}
